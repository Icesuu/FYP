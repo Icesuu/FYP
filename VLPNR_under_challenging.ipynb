{
  "nbformat": 4,
  "nbformat_minor": 0,
  "metadata": {
    "colab": {
      "provenance": [],
      "authorship_tag": "ABX9TyO+JmPyhLdcEh9KQx8vRjVy",
      "include_colab_link": true
    },
    "kernelspec": {
      "name": "python3",
      "display_name": "Python 3"
    },
    "language_info": {
      "name": "python"
    }
  },
  "cells": [
    {
      "cell_type": "markdown",
      "metadata": {
        "id": "view-in-github",
        "colab_type": "text"
      },
      "source": [
        "<a href=\"https://colab.research.google.com/github/Icesuu/FYP/blob/main/VLPNR_under_challenging.ipynb\" target=\"_parent\"><img src=\"https://colab.research.google.com/assets/colab-badge.svg\" alt=\"Open In Colab\"/></a>"
      ]
    },
    {
      "cell_type": "code",
      "execution_count": null,
      "metadata": {
        "id": "AZISvIyZiFRK"
      },
      "outputs": [],
      "source": [
        "!pip install super-gradients\n",
        "!pip install imutils\n",
        "!pip install roboflow\n",
        "!pip install pytube --upgrade\n",
        "!pip install torchinfo\n",
        "!pip install pillow\n",
        "!pip install easyocr\n",
        "#!pip install pytesseract\n",
        "#!pip install tesseract\n",
        "!pip install super-resolution"
      ]
    },
    {
      "cell_type": "code",
      "source": [
        "from super_gradients.training import models\n",
        "from super_gradients.training import Trainer\n",
        "from super_gradients.training import dataloaders\n",
        "from super_gradients.training.dataloaders.dataloaders import coco_detection_yolo_format_train, coco_detection_yolo_format_val\n",
        "from IPython.display import clear_output\n",
        "from super_gradients.training.losses import PPYoloELoss\n",
        "from super_gradients.training.metrics import DetectionMetrics_050\n",
        "from super_gradients.training.models.detection_models.pp_yolo_e import PPYoloEPostPredictionCallback\n",
        "from PIL import Image\n",
        "from torchinfo import summary\n",
        "import super_gradients.training.utils as utils\n",
        "import cv2\n",
        "import numpy as np\n",
        "import matplotlib.pyplot as plt\n",
        "from google.colab.patches import cv2_imshow\n",
        "from roboflow import Roboflow\n",
        "import imutils\n",
        "import easyocr\n",
        "import time\n",
        "from super_resolution import cartoon_upsampling_8x\n"
      ],
      "metadata": {
        "id": "DS3pfTW4i-Q6"
      },
      "execution_count": null,
      "outputs": []
    },
    {
      "cell_type": "code",
      "source": [
        "CHECKPOINT_DIR = '/content/drive/MyDrive/FYP/checkpoints'\n",
        "trainer = Trainer (experiment_name = 'apnr_yolonas_run', ckpt_root_dir=CHECKPOINT_DIR)"
      ],
      "metadata": {
        "id": "Fw7cYGw_jAQH"
      },
      "execution_count": null,
      "outputs": []
    },
    {
      "cell_type": "code",
      "source": [
        "dataset_params ={\n",
        "    'data_dir':'/content/drive/MyDrive/FYP/License-Plate-1',\n",
        "    'train_images_dir':'train/images',\n",
        "    'train_labels_dir':'train/labels',\n",
        "    'val_images_dir':'valid/images',\n",
        "    'val_labels_dir':'valid/labels',\n",
        "    'test_images_dir':'test/images',\n",
        "    'test_labels_dir':'test/labels',\n",
        "    'classes':['license']\n",
        "}\n",
        "\n",
        "'''dataset_params ={\n",
        "    'data_dir':'/content/drive/MyDrive/FYP/ccpd_green',\n",
        "    'train_images_dir':'train/images',\n",
        "    'train_labels_dir':'train/labels',\n",
        "    'val_images_dir':'valid/images',\n",
        "    'val_labels_dir':'valid/labels',\n",
        "    'test_images_dir':'test/images',\n",
        "    'test_labels_dir':'test/labels',\n",
        "    'classes':['license']'''\n",
        "\n",
        "'''dataset_params ={\n",
        "    'data_dir':'/content/drive/MyDrive/FYP/Mplate',\n",
        "    'train_images_dir':'train/images',\n",
        "    'train_labels_dir':'train/labels',\n",
        "    'val_images_dir':'valid/images',\n",
        "    'val_labels_dir':'valid/labels',\n",
        "    'test_images_dir':'test/images',\n",
        "    'test_labels_dir':'test/labels',\n",
        "    'classes':['license']'''"
      ],
      "metadata": {
        "id": "iNUwvjdbjExG"
      },
      "execution_count": null,
      "outputs": []
    },
    {
      "cell_type": "code",
      "source": [
        "train_data = coco_detection_yolo_format_train(\n",
        "    dataset_params={\n",
        "        'data_dir': dataset_params['data_dir'],\n",
        "        'images_dir': dataset_params['train_images_dir'],\n",
        "        'labels_dir': dataset_params['train_labels_dir'],\n",
        "        'classes': dataset_params['classes']\n",
        "    },\n",
        "    dataloader_params={\n",
        "        'batch_size':16,\n",
        "        'num_workers':2\n",
        "    }\n",
        ")\n",
        "\n",
        "val_data = coco_detection_yolo_format_val(\n",
        "    dataset_params={\n",
        "        'data_dir': dataset_params['data_dir'],\n",
        "        'images_dir': dataset_params['val_images_dir'],\n",
        "        'labels_dir': dataset_params['val_labels_dir'],\n",
        "        'classes': dataset_params['classes']\n",
        "    },\n",
        "    dataloader_params={\n",
        "        'batch_size':16,\n",
        "        'num_workers':2\n",
        "    }\n",
        ")\n",
        "\n",
        "test_data = coco_detection_yolo_format_val(\n",
        "    dataset_params={\n",
        "        'data_dir': dataset_params['data_dir'],\n",
        "        'images_dir': dataset_params['test_images_dir'],\n",
        "        'labels_dir': dataset_params['test_labels_dir'],\n",
        "        'classes': dataset_params['classes']\n",
        "    },\n",
        "    dataloader_params={\n",
        "        'batch_size':16,\n",
        "        'num_workers':2\n",
        "    }\n",
        ")\n",
        "\n",
        "clear_output()"
      ],
      "metadata": {
        "id": "sXPYz5VijG7v"
      },
      "execution_count": null,
      "outputs": []
    },
    {
      "cell_type": "code",
      "source": [
        "model= models.get('yolo_nas_s',\n",
        "                  num_classes=len(dataset_params['classes']),\n",
        "                  pretrained_weights=\"coco\"\n",
        "                  )"
      ],
      "metadata": {
        "id": "sTMnXLe0jJAq"
      },
      "execution_count": null,
      "outputs": []
    },
    {
      "cell_type": "code",
      "source": [
        "best_model = models.get('yolo_nas_s',\n",
        "                        num_classes = len(dataset_params['classes']),\n",
        "                        checkpoint_path = \"drive/MyDrive/checkpoints/apnr_yolonas_run/RUN_20240103_064341_571254/ckpt_best.pth\")"
      ],
      "metadata": {
        "id": "HfZl7emcjJvw"
      },
      "execution_count": null,
      "outputs": []
    },
    {
      "cell_type": "code",
      "source": [
        "img_url = '/content/drive/MyDrive/FYP/content/Cars249.png'\n",
        "best_model.predict(img_url).show()"
      ],
      "metadata": {
        "id": "RUvaYAO7jPJI"
      },
      "execution_count": null,
      "outputs": []
    }
  ]
}