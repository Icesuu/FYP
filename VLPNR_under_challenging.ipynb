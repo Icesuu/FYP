{
  "cells": [
    {
      "cell_type": "markdown",
      "metadata": {
        "id": "view-in-github",
        "colab_type": "text"
      },
      "source": [
        "<a href=\"https://colab.research.google.com/github/Icesuu/FYP/blob/main/VLPNR_under_challenging.ipynb\" target=\"_parent\"><img src=\"https://colab.research.google.com/assets/colab-badge.svg\" alt=\"Open In Colab\"/></a>"
      ]
    },
    {
      "cell_type": "code",
      "execution_count": null,
      "metadata": {
        "id": "AZISvIyZiFRK"
      },
      "outputs": [],
      "source": [
        "\n",
        "!pip install imutils\n",
        "!pip install roboflow\n",
        "!pip install pytube --upgrade\n",
        "!pip install torchinfo\n",
        "!pip install pillow\n",
        "!pip install easyocr\n",
        "#!pip install pytesseract\n",
        "#!pip install tesseract\n",
        "!pip install super-resolution\n",
        "!pip install numpy==1.23\n",
        "!pip install super-gradients"
      ]
    },
    {
      "cell_type": "code",
      "execution_count": null,
      "metadata": {
        "id": "DS3pfTW4i-Q6"
      },
      "outputs": [],
      "source": [
        "from super_gradients.training import models\n",
        "from super_gradients.training import Trainer\n",
        "from super_gradients.training import dataloaders\n",
        "from super_gradients.training.dataloaders.dataloaders import coco_detection_yolo_format_train, coco_detection_yolo_format_val\n",
        "from IPython.display import clear_output\n",
        "from super_gradients.training.losses import PPYoloELoss\n",
        "from super_gradients.training.metrics import DetectionMetrics_050\n",
        "from super_gradients.training.models.detection_models.pp_yolo_e import PPYoloEPostPredictionCallback\n",
        "from PIL import Image\n",
        "from torchinfo import summary\n",
        "import super_gradients.training.utils as utils\n",
        "import cv2\n",
        "import numpy as np\n",
        "import matplotlib.pyplot as plt\n",
        "from google.colab.patches import cv2_imshow\n",
        "from roboflow import Roboflow\n",
        "import imutils\n",
        "import easyocr\n",
        "import time\n",
        "from super_resolution import cartoon_upsampling_8x\n",
        "from super_resolution import cartoon_upsampling_4x\n"
      ]
    },
    {
      "cell_type": "code",
      "execution_count": null,
      "metadata": {
        "id": "rd7tRfxvwfl0"
      },
      "outputs": [],
      "source": [
        "rf = Roboflow(api_key=\"D9VG7ZKN80WdwYIchywm\")\n",
        "project = rf.workspace(\"project-p5nyc\").project(\"license-plate-wh9yk\")\n",
        "dataset = project.version(1).download(\"yolov8\")"
      ]
    },
    {
      "cell_type": "code",
      "execution_count": null,
      "metadata": {
        "id": "qv6s-fTZpCJT"
      },
      "outputs": [],
      "source": [
        "!gdown \"https://drive.google.com/uc?id=1uGJLdRHa7AI7UiMUKO9FJz95OQ0LKPl1\"\n",
        "#!gdown \"https://drive.google.com/drive/folders/uc?id=1-0cC430x5wHPFzfzi37b2MN7uUyktQWE\""
      ]
    },
    {
      "cell_type": "code",
      "execution_count": null,
      "metadata": {
        "id": "Fw7cYGw_jAQH"
      },
      "outputs": [],
      "source": [
        "CHECKPOINT_DIR = '/content/checkpoints'\n",
        "trainer = Trainer (experiment_name = 'apnr_yolonas_run', ckpt_root_dir=CHECKPOINT_DIR)"
      ]
    },
    {
      "cell_type": "code",
      "execution_count": null,
      "metadata": {
        "id": "iNUwvjdbjExG"
      },
      "outputs": [],
      "source": [
        "dataset_params ={\n",
        "    'data_dir':'/content/License-Plate-1',\n",
        "    'train_images_dir':'train/images',\n",
        "    'train_labels_dir':'train/labels',\n",
        "    'val_images_dir':'valid/images',\n",
        "    'val_labels_dir':'valid/labels',\n",
        "    'test_images_dir':'test/images',\n",
        "    'test_labels_dir':'test/labels',\n",
        "    'classes':['license']\n",
        "}\n"
      ]
    },
    {
      "cell_type": "code",
      "execution_count": null,
      "metadata": {
        "id": "sXPYz5VijG7v"
      },
      "outputs": [],
      "source": [
        "train_data = coco_detection_yolo_format_train(\n",
        "    dataset_params={\n",
        "        'data_dir': dataset_params['data_dir'],\n",
        "        'images_dir': dataset_params['train_images_dir'],\n",
        "        'labels_dir': dataset_params['train_labels_dir'],\n",
        "        'classes': dataset_params['classes']\n",
        "    },\n",
        "    dataloader_params={\n",
        "        'batch_size':16,\n",
        "        'num_workers':2\n",
        "    }\n",
        ")\n",
        "\n",
        "val_data = coco_detection_yolo_format_val(\n",
        "    dataset_params={\n",
        "        'data_dir': dataset_params['data_dir'],\n",
        "        'images_dir': dataset_params['val_images_dir'],\n",
        "        'labels_dir': dataset_params['val_labels_dir'],\n",
        "        'classes': dataset_params['classes']\n",
        "    },\n",
        "    dataloader_params={\n",
        "        'batch_size':16,\n",
        "        'num_workers':2\n",
        "    }\n",
        ")\n",
        "\n",
        "test_data = coco_detection_yolo_format_val(\n",
        "    dataset_params={\n",
        "        'data_dir': dataset_params['data_dir'],\n",
        "        'images_dir': dataset_params['test_images_dir'],\n",
        "        'labels_dir': dataset_params['test_labels_dir'],\n",
        "        'classes': dataset_params['classes']\n",
        "    },\n",
        "    dataloader_params={\n",
        "        'batch_size':16,\n",
        "        'num_workers':2\n",
        "    }\n",
        ")\n",
        "\n",
        "clear_output()"
      ]
    },
    {
      "cell_type": "code",
      "execution_count": null,
      "metadata": {
        "id": "HfZl7emcjJvw"
      },
      "outputs": [],
      "source": [
        "best_model = models.get('yolo_nas_s',\n",
        "                        num_classes = len(dataset_params['classes']),\n",
        "                        checkpoint_path = \"/content/ckpt_best.pth\")"
      ]
    },
    {
      "cell_type": "markdown",
      "metadata": {
        "id": "PdTbekxV9FMi"
      },
      "source": [
        "****"
      ]
    },
    {
      "cell_type": "code",
      "execution_count": null,
      "metadata": {
        "id": "RUvaYAO7jPJI"
      },
      "outputs": [],
      "source": [
        "#img_url = '/content/ums.jpg'\n",
        "#best_model.predict(img_url).show()"
      ]
    },
    {
      "cell_type": "markdown",
      "metadata": {
        "id": "PnMmTTv6T2VL"
      },
      "source": [
        "# **Run here**"
      ]
    },
    {
      "cell_type": "code",
      "execution_count": null,
      "metadata": {
        "id": "sHMSlMBty6zx"
      },
      "outputs": [],
      "source": [
        "t1 = time.perf_counter()\n",
        "t4 = time.perf_counter()\n",
        "img_path = '/content/11.jpg'\n",
        "super_img = cartoon_upsampling_4x(img_path,'/content/super.jpg')"
      ]
    },
    {
      "cell_type": "code",
      "execution_count": null,
      "metadata": {
        "colab": {
          "background_save": true
        },
        "id": "glCtdhqBy_H6"
      },
      "outputs": [],
      "source": [
        "img_url = cv2.imread('/content/super.jpg', cv2.IMREAD_UNCHANGED)\n",
        "\n",
        "\n",
        "img_detect = cv2.addWeighted(img_url, 0.8, img_url, 0, 0)\n",
        "\n",
        "\n",
        "\n",
        "# sharpening\n",
        "kernel = np.array([[0, -1, 0],\n",
        "                   [-1, 5, -1],\n",
        "                   [0, -1, 0]])\n",
        "img_detect = cv2.filter2D(img_detect, -1, kernel)\n",
        "\n",
        "t5 = time.perf_counter()\n",
        "\n",
        "#img_detect = cv2.resize(img_detect, (800, 600))\n",
        "\n",
        "detection = best_model.predict(img_detect)\n",
        "detection.show()"
      ]
    },
    {
      "cell_type": "code",
      "execution_count": null,
      "metadata": {
        "colab": {
          "background_save": true
        },
        "id": "M3K5BO0fzClO"
      },
      "outputs": [],
      "source": [
        "bboxes = detection.prediction.bboxes_xyxy\n",
        "print(\"bbox: \", bboxes)"
      ]
    },
    {
      "cell_type": "code",
      "execution_count": null,
      "metadata": {
        "colab": {
          "background_save": true
        },
        "id": "zGo4YKs0zLEv"
      },
      "outputs": [],
      "source": [
        "bbox = bboxes[0]\n",
        "\n",
        "\n",
        "# Convert bounding box coordinates to integers\n",
        "crop_box = (int(bbox[0]), int(bbox[1]), int(bbox[2]), int(bbox[3]))\n",
        "\n",
        "# Crop the image\n",
        "img2 = img_detect[crop_box[1]:crop_box[3], crop_box[0]:crop_box[2]]\n",
        "img2 = cv2.bitwise_not(img2)\n",
        "\n",
        "cv2_imshow(img2)\n"
      ]
    },
    {
      "cell_type": "code",
      "execution_count": null,
      "metadata": {
        "colab": {
          "background_save": true
        },
        "id": "7c73bzDvzPRE"
      },
      "outputs": [],
      "source": [
        "reader = easyocr.Reader(['en'])\n",
        "\n",
        "# Adjust contrast and brightness\n",
        "alpha = 0.8 # Contrast control (1.0 means no change)\n",
        "beta = 30    # Brightness control\n",
        "img2 = cv2.convertScaleAbs(img2, alpha=alpha, beta=beta)\n",
        "\n",
        "\n",
        "\n",
        "cv2_imshow(img2)"
      ]
    },
    {
      "cell_type": "code",
      "execution_count": null,
      "metadata": {
        "colab": {
          "background_save": true
        },
        "id": "EiX_0YPW63qE"
      },
      "outputs": [],
      "source": [
        "# Perform OCR on the image\n",
        "results = reader.readtext(img2)\n",
        "\n",
        "# Display the image with bounding boxes around detected characters\n",
        "for (bbox, text, prob) in results:\n",
        "    (top_left, top_right, bottom_right, bottom_left) = bbox\n",
        "    top_left = tuple(map(int, top_left))\n",
        "    bottom_right = tuple(map(int, bottom_right))\n",
        "    cv2.rectangle(img2, top_left, bottom_right, (0, 255, 0), 2)\n",
        "    cv2.putText(img2, f'{text} ({prob:.2f})', top_left, cv2.FONT_HERSHEY_SIMPLEX, 0.5, (0, 0, 255), 2)\n",
        "\n",
        "t2 = time.perf_counter()\n",
        "t3 = t2-t1"
      ]
    },
    {
      "cell_type": "code",
      "execution_count": null,
      "metadata": {
        "colab": {
          "background_save": true
        },
        "id": "WNt0QVT5zYRm"
      },
      "outputs": [],
      "source": [
        "\n",
        "# Display the annotated image\n",
        "\n",
        "plt.subplot(321)\n",
        "plt.imshow(img_url)\n",
        "plt.title('Original')\n",
        "plt.axis('off')\n",
        "\n",
        "plt.subplot(323)\n",
        "plt.imshow(img_detect)\n",
        "plt.title('Image Pre-processed')\n",
        "plt.axis('off')\n",
        "\n",
        "plt.subplot(324)\n",
        "plt.imshow(cv2.cvtColor(img2, cv2.COLOR_BGR2RGB))\n",
        "plt.title('Detected License Plate')\n",
        "plt.axis('off')\n",
        "\n",
        "plt.subplot(325)\n",
        "detected_text = [f'{text} ({prob:.2f})' for (bbox, text, prob) in results]\n",
        "plt.text(0.2, 0.5, '\\n'.join(detected_text), fontsize=10,verticalalignment='center')\n",
        "plt.title('Recognized Character')\n",
        "plt.axis('off')\n",
        "\n",
        "plt.subplot(322)\n",
        "plt.imshow(super_img)\n",
        "plt.title('Super resolution')\n",
        "plt.axis('off')\n",
        "\n",
        "plt.subplot(326)\n",
        "plt.annotate(t3,(.5,.5),ha='center',va='center')\n",
        "plt.title(\"Time Taken(s)\")\n",
        "plt.axis('off')\n",
        "\n",
        "plt.figsize=10,10\n",
        "plt.show()\n",
        "\n"
      ]
    },
    {
      "cell_type": "code",
      "execution_count": null,
      "metadata": {
        "colab": {
          "background_save": true
        },
        "id": "cL7JDSkFTTkf"
      },
      "outputs": [],
      "source": [
        "t6 = t5-t4\n",
        "plt.subplot(111)\n",
        "plt.annotate(t6,(.5,.5),ha='center',va='center')\n",
        "plt.title(\"Time Taken(s)\")\n",
        "plt.axis('off')\n",
        "\n"
      ]
    },
    {
      "cell_type": "code",
      "execution_count": null,
      "metadata": {
        "colab": {
          "background_save": true
        },
        "id": "L-ZqLdzETaSL"
      },
      "outputs": [],
      "source": [
        "t7=t3-t6\n",
        "plt.subplot(111)\n",
        "plt.annotate(t7,(.5,.5),ha='center',va='center')\n",
        "plt.title(\"Time Taken(s)\")\n",
        "plt.axis('off')"
      ]
    }
  ],
  "metadata": {
    "accelerator": "GPU",
    "colab": {
      "gpuType": "T4",
      "provenance": [],
      "include_colab_link": true
    },
    "kernelspec": {
      "display_name": "Python 3",
      "name": "python3"
    },
    "language_info": {
      "name": "python"
    }
  },
  "nbformat": 4,
  "nbformat_minor": 0
}